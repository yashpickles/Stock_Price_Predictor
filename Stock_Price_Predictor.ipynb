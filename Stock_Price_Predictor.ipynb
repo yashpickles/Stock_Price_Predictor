{
  "nbformat": 4,
  "nbformat_minor": 0,
  "metadata": {
    "colab": {
      "name": "Stock_Price_Predictor.ipynb",
      "provenance": [],
      "toc_visible": true,
      "authorship_tag": "ABX9TyNUdXXETu/x7CMhnADYDvez",
      "include_colab_link": true
    },
    "kernelspec": {
      "name": "python3",
      "display_name": "Python 3"
    }
  },
  "cells": [
    {
      "cell_type": "markdown",
      "metadata": {
        "id": "view-in-github",
        "colab_type": "text"
      },
      "source": [
        "<a href=\"https://colab.research.google.com/github/yashpickles/Stock_Price_Predictor/blob/main/Stock_Price_Predictor.ipynb\" target=\"_parent\"><img src=\"https://colab.research.google.com/assets/colab-badge.svg\" alt=\"Open In Colab\"/></a>"
      ]
    },
    {
      "cell_type": "markdown",
      "metadata": {
        "id": "y8y_I0FT6zJR"
      },
      "source": [
        "# **Stock Price Predictor**\r\n",
        "\r\n",
        "### **-Yash Acharya**"
      ]
    },
    {
      "cell_type": "markdown",
      "metadata": {
        "id": "lbQXW0W02pbJ"
      },
      "source": [
        "## **Installing the yfinance API**"
      ]
    },
    {
      "cell_type": "code",
      "metadata": {
        "colab": {
          "base_uri": "https://localhost:8080/"
        },
        "id": "vWxESdWwtw5v",
        "outputId": "9faca396-5535-42e0-ffc4-177f1193ab55"
      },
      "source": [
        "pip install yfinance"
      ],
      "execution_count": 36,
      "outputs": [
        {
          "output_type": "stream",
          "text": [
            "Requirement already satisfied: yfinance in /usr/local/lib/python3.6/dist-packages (0.1.55)\n",
            "Requirement already satisfied: numpy>=1.15 in /usr/local/lib/python3.6/dist-packages (from yfinance) (1.19.5)\n",
            "Requirement already satisfied: pandas>=0.24 in /usr/local/lib/python3.6/dist-packages (from yfinance) (1.1.5)\n",
            "Requirement already satisfied: requests>=2.20 in /usr/local/lib/python3.6/dist-packages (from yfinance) (2.23.0)\n",
            "Requirement already satisfied: multitasking>=0.0.7 in /usr/local/lib/python3.6/dist-packages (from yfinance) (0.0.9)\n",
            "Requirement already satisfied: lxml>=4.5.1 in /usr/local/lib/python3.6/dist-packages (from yfinance) (4.6.2)\n",
            "Requirement already satisfied: pytz>=2017.2 in /usr/local/lib/python3.6/dist-packages (from pandas>=0.24->yfinance) (2018.9)\n",
            "Requirement already satisfied: python-dateutil>=2.7.3 in /usr/local/lib/python3.6/dist-packages (from pandas>=0.24->yfinance) (2.8.1)\n",
            "Requirement already satisfied: chardet<4,>=3.0.2 in /usr/local/lib/python3.6/dist-packages (from requests>=2.20->yfinance) (3.0.4)\n",
            "Requirement already satisfied: idna<3,>=2.5 in /usr/local/lib/python3.6/dist-packages (from requests>=2.20->yfinance) (2.10)\n",
            "Requirement already satisfied: urllib3!=1.25.0,!=1.25.1,<1.26,>=1.21.1 in /usr/local/lib/python3.6/dist-packages (from requests>=2.20->yfinance) (1.24.3)\n",
            "Requirement already satisfied: certifi>=2017.4.17 in /usr/local/lib/python3.6/dist-packages (from requests>=2.20->yfinance) (2020.12.5)\n",
            "Requirement already satisfied: six>=1.5 in /usr/local/lib/python3.6/dist-packages (from python-dateutil>=2.7.3->pandas>=0.24->yfinance) (1.15.0)\n"
          ],
          "name": "stdout"
        }
      ]
    },
    {
      "cell_type": "markdown",
      "metadata": {
        "id": "NziMp8jN3P95"
      },
      "source": [
        "## **Importing the Libraires**"
      ]
    },
    {
      "cell_type": "code",
      "metadata": {
        "id": "Kq0tSbS3t41S"
      },
      "source": [
        "import yfinance as yf\r\n",
        "import matplotlib.pyplot as plt\r\n",
        "import datetime as dt\r\n",
        "import pandas as pd\r\n",
        "import numpy as np\r\n",
        "import pandas_datareader as web"
      ],
      "execution_count": 37,
      "outputs": []
    },
    {
      "cell_type": "markdown",
      "metadata": {
        "id": "ZM2ukJME3kyp"
      },
      "source": [
        "## **Scraping the API**"
      ]
    },
    {
      "cell_type": "code",
      "metadata": {
        "id": "pqx8pFMrubQ7"
      },
      "source": [
        "company = 'TSLA'\r\n"
      ],
      "execution_count": 38,
      "outputs": []
    },
    {
      "cell_type": "code",
      "metadata": {
        "id": "K9XSN32yx4vJ"
      },
      "source": [
        "start = dt.datetime(2020,1,1)"
      ],
      "execution_count": 39,
      "outputs": []
    },
    {
      "cell_type": "code",
      "metadata": {
        "id": "yr02DUkgvLxt"
      },
      "source": [
        "end = dt.datetime(2021,1,1)"
      ],
      "execution_count": 40,
      "outputs": []
    },
    {
      "cell_type": "code",
      "metadata": {
        "id": "Mq7DSz_rwHui"
      },
      "source": [
        "dataset = web.DataReader(company, 'yahoo', start, end)"
      ],
      "execution_count": 41,
      "outputs": []
    },
    {
      "cell_type": "markdown",
      "metadata": {
        "id": "j1arPyhp4syA"
      },
      "source": [
        "## **Visualization of the Dataset**"
      ]
    },
    {
      "cell_type": "code",
      "metadata": {
        "colab": {
          "base_uri": "https://localhost:8080/",
          "height": 235
        },
        "id": "26wS_3Xv1xsp",
        "outputId": "63c3ce09-19df-4742-aa56-08cc74bcf18a"
      },
      "source": [
        "dataset.head()"
      ],
      "execution_count": 42,
      "outputs": [
        {
          "output_type": "execute_result",
          "data": {
            "text/html": [
              "<div>\n",
              "<style scoped>\n",
              "    .dataframe tbody tr th:only-of-type {\n",
              "        vertical-align: middle;\n",
              "    }\n",
              "\n",
              "    .dataframe tbody tr th {\n",
              "        vertical-align: top;\n",
              "    }\n",
              "\n",
              "    .dataframe thead th {\n",
              "        text-align: right;\n",
              "    }\n",
              "</style>\n",
              "<table border=\"1\" class=\"dataframe\">\n",
              "  <thead>\n",
              "    <tr style=\"text-align: right;\">\n",
              "      <th></th>\n",
              "      <th>High</th>\n",
              "      <th>Low</th>\n",
              "      <th>Open</th>\n",
              "      <th>Close</th>\n",
              "      <th>Volume</th>\n",
              "      <th>Adj Close</th>\n",
              "    </tr>\n",
              "    <tr>\n",
              "      <th>Date</th>\n",
              "      <th></th>\n",
              "      <th></th>\n",
              "      <th></th>\n",
              "      <th></th>\n",
              "      <th></th>\n",
              "      <th></th>\n",
              "    </tr>\n",
              "  </thead>\n",
              "  <tbody>\n",
              "    <tr>\n",
              "      <th>2020-01-02</th>\n",
              "      <td>86.139999</td>\n",
              "      <td>84.342003</td>\n",
              "      <td>84.900002</td>\n",
              "      <td>86.052002</td>\n",
              "      <td>47660500.0</td>\n",
              "      <td>86.052002</td>\n",
              "    </tr>\n",
              "    <tr>\n",
              "      <th>2020-01-03</th>\n",
              "      <td>90.800003</td>\n",
              "      <td>87.384003</td>\n",
              "      <td>88.099998</td>\n",
              "      <td>88.601997</td>\n",
              "      <td>88892500.0</td>\n",
              "      <td>88.601997</td>\n",
              "    </tr>\n",
              "    <tr>\n",
              "      <th>2020-01-06</th>\n",
              "      <td>90.311996</td>\n",
              "      <td>88.000000</td>\n",
              "      <td>88.094002</td>\n",
              "      <td>90.307999</td>\n",
              "      <td>50665000.0</td>\n",
              "      <td>90.307999</td>\n",
              "    </tr>\n",
              "    <tr>\n",
              "      <th>2020-01-07</th>\n",
              "      <td>94.325996</td>\n",
              "      <td>90.671997</td>\n",
              "      <td>92.279999</td>\n",
              "      <td>93.811996</td>\n",
              "      <td>89410500.0</td>\n",
              "      <td>93.811996</td>\n",
              "    </tr>\n",
              "    <tr>\n",
              "      <th>2020-01-08</th>\n",
              "      <td>99.697998</td>\n",
              "      <td>93.646004</td>\n",
              "      <td>94.739998</td>\n",
              "      <td>98.428001</td>\n",
              "      <td>155721500.0</td>\n",
              "      <td>98.428001</td>\n",
              "    </tr>\n",
              "  </tbody>\n",
              "</table>\n",
              "</div>"
            ],
            "text/plain": [
              "                 High        Low       Open      Close       Volume  Adj Close\n",
              "Date                                                                          \n",
              "2020-01-02  86.139999  84.342003  84.900002  86.052002   47660500.0  86.052002\n",
              "2020-01-03  90.800003  87.384003  88.099998  88.601997   88892500.0  88.601997\n",
              "2020-01-06  90.311996  88.000000  88.094002  90.307999   50665000.0  90.307999\n",
              "2020-01-07  94.325996  90.671997  92.279999  93.811996   89410500.0  93.811996\n",
              "2020-01-08  99.697998  93.646004  94.739998  98.428001  155721500.0  98.428001"
            ]
          },
          "metadata": {
            "tags": []
          },
          "execution_count": 42
        }
      ]
    },
    {
      "cell_type": "code",
      "metadata": {
        "colab": {
          "base_uri": "https://localhost:8080/",
          "height": 235
        },
        "id": "xtWl_zqX12_C",
        "outputId": "cc620957-211c-41f0-da85-be2a8b887d72"
      },
      "source": [
        "dataset.tail()"
      ],
      "execution_count": 43,
      "outputs": [
        {
          "output_type": "execute_result",
          "data": {
            "text/html": [
              "<div>\n",
              "<style scoped>\n",
              "    .dataframe tbody tr th:only-of-type {\n",
              "        vertical-align: middle;\n",
              "    }\n",
              "\n",
              "    .dataframe tbody tr th {\n",
              "        vertical-align: top;\n",
              "    }\n",
              "\n",
              "    .dataframe thead th {\n",
              "        text-align: right;\n",
              "    }\n",
              "</style>\n",
              "<table border=\"1\" class=\"dataframe\">\n",
              "  <thead>\n",
              "    <tr style=\"text-align: right;\">\n",
              "      <th></th>\n",
              "      <th>High</th>\n",
              "      <th>Low</th>\n",
              "      <th>Open</th>\n",
              "      <th>Close</th>\n",
              "      <th>Volume</th>\n",
              "      <th>Adj Close</th>\n",
              "    </tr>\n",
              "    <tr>\n",
              "      <th>Date</th>\n",
              "      <th></th>\n",
              "      <th></th>\n",
              "      <th></th>\n",
              "      <th></th>\n",
              "      <th></th>\n",
              "      <th></th>\n",
              "    </tr>\n",
              "  </thead>\n",
              "  <tbody>\n",
              "    <tr>\n",
              "      <th>2020-12-24</th>\n",
              "      <td>666.090027</td>\n",
              "      <td>641.000000</td>\n",
              "      <td>642.98999</td>\n",
              "      <td>661.770020</td>\n",
              "      <td>22865600.0</td>\n",
              "      <td>661.770020</td>\n",
              "    </tr>\n",
              "    <tr>\n",
              "      <th>2020-12-28</th>\n",
              "      <td>681.400024</td>\n",
              "      <td>660.799988</td>\n",
              "      <td>674.51001</td>\n",
              "      <td>663.690002</td>\n",
              "      <td>32278600.0</td>\n",
              "      <td>663.690002</td>\n",
              "    </tr>\n",
              "    <tr>\n",
              "      <th>2020-12-29</th>\n",
              "      <td>669.900024</td>\n",
              "      <td>655.000000</td>\n",
              "      <td>661.00000</td>\n",
              "      <td>665.989990</td>\n",
              "      <td>22910800.0</td>\n",
              "      <td>665.989990</td>\n",
              "    </tr>\n",
              "    <tr>\n",
              "      <th>2020-12-30</th>\n",
              "      <td>696.599976</td>\n",
              "      <td>668.359985</td>\n",
              "      <td>672.00000</td>\n",
              "      <td>694.780029</td>\n",
              "      <td>42846000.0</td>\n",
              "      <td>694.780029</td>\n",
              "    </tr>\n",
              "    <tr>\n",
              "      <th>2020-12-31</th>\n",
              "      <td>718.719971</td>\n",
              "      <td>691.119995</td>\n",
              "      <td>699.98999</td>\n",
              "      <td>705.669983</td>\n",
              "      <td>49570900.0</td>\n",
              "      <td>705.669983</td>\n",
              "    </tr>\n",
              "  </tbody>\n",
              "</table>\n",
              "</div>"
            ],
            "text/plain": [
              "                  High         Low  ...      Volume   Adj Close\n",
              "Date                                ...                        \n",
              "2020-12-24  666.090027  641.000000  ...  22865600.0  661.770020\n",
              "2020-12-28  681.400024  660.799988  ...  32278600.0  663.690002\n",
              "2020-12-29  669.900024  655.000000  ...  22910800.0  665.989990\n",
              "2020-12-30  696.599976  668.359985  ...  42846000.0  694.780029\n",
              "2020-12-31  718.719971  691.119995  ...  49570900.0  705.669983\n",
              "\n",
              "[5 rows x 6 columns]"
            ]
          },
          "metadata": {
            "tags": []
          },
          "execution_count": 43
        }
      ]
    },
    {
      "cell_type": "code",
      "metadata": {
        "colab": {
          "base_uri": "https://localhost:8080/"
        },
        "id": "7BrhQgHu173Z",
        "outputId": "5292163b-540c-4f27-d623-8750d8a023f0"
      },
      "source": [
        "dataset.shape"
      ],
      "execution_count": 44,
      "outputs": [
        {
          "output_type": "execute_result",
          "data": {
            "text/plain": [
              "(253, 6)"
            ]
          },
          "metadata": {
            "tags": []
          },
          "execution_count": 44
        }
      ]
    },
    {
      "cell_type": "code",
      "metadata": {
        "colab": {
          "base_uri": "https://localhost:8080/",
          "height": 297
        },
        "id": "h9mZWehr2I8i",
        "outputId": "5c962d03-eeaf-422c-cdcb-70c2146de9e9"
      },
      "source": [
        "dataset.describe()"
      ],
      "execution_count": 45,
      "outputs": [
        {
          "output_type": "execute_result",
          "data": {
            "text/html": [
              "<div>\n",
              "<style scoped>\n",
              "    .dataframe tbody tr th:only-of-type {\n",
              "        vertical-align: middle;\n",
              "    }\n",
              "\n",
              "    .dataframe tbody tr th {\n",
              "        vertical-align: top;\n",
              "    }\n",
              "\n",
              "    .dataframe thead th {\n",
              "        text-align: right;\n",
              "    }\n",
              "</style>\n",
              "<table border=\"1\" class=\"dataframe\">\n",
              "  <thead>\n",
              "    <tr style=\"text-align: right;\">\n",
              "      <th></th>\n",
              "      <th>High</th>\n",
              "      <th>Low</th>\n",
              "      <th>Open</th>\n",
              "      <th>Close</th>\n",
              "      <th>Volume</th>\n",
              "      <th>Adj Close</th>\n",
              "    </tr>\n",
              "  </thead>\n",
              "  <tbody>\n",
              "    <tr>\n",
              "      <th>count</th>\n",
              "      <td>253.000000</td>\n",
              "      <td>253.000000</td>\n",
              "      <td>253.000000</td>\n",
              "      <td>253.000000</td>\n",
              "      <td>2.530000e+02</td>\n",
              "      <td>253.000000</td>\n",
              "    </tr>\n",
              "    <tr>\n",
              "      <th>mean</th>\n",
              "      <td>297.288411</td>\n",
              "      <td>280.697937</td>\n",
              "      <td>289.108428</td>\n",
              "      <td>289.997067</td>\n",
              "      <td>7.532903e+07</td>\n",
              "      <td>289.997067</td>\n",
              "    </tr>\n",
              "    <tr>\n",
              "      <th>std</th>\n",
              "      <td>171.702889</td>\n",
              "      <td>163.350196</td>\n",
              "      <td>167.665389</td>\n",
              "      <td>168.995613</td>\n",
              "      <td>4.015651e+07</td>\n",
              "      <td>168.995613</td>\n",
              "    </tr>\n",
              "    <tr>\n",
              "      <th>min</th>\n",
              "      <td>80.972000</td>\n",
              "      <td>70.101997</td>\n",
              "      <td>74.940002</td>\n",
              "      <td>72.244003</td>\n",
              "      <td>1.735770e+07</td>\n",
              "      <td>72.244003</td>\n",
              "    </tr>\n",
              "    <tr>\n",
              "      <th>25%</th>\n",
              "      <td>154.990005</td>\n",
              "      <td>143.222000</td>\n",
              "      <td>148.367996</td>\n",
              "      <td>149.792007</td>\n",
              "      <td>4.713450e+07</td>\n",
              "      <td>149.792007</td>\n",
              "    </tr>\n",
              "    <tr>\n",
              "      <th>50%</th>\n",
              "      <td>245.600006</td>\n",
              "      <td>237.119995</td>\n",
              "      <td>244.296005</td>\n",
              "      <td>241.731995</td>\n",
              "      <td>7.025550e+07</td>\n",
              "      <td>241.731995</td>\n",
              "    </tr>\n",
              "    <tr>\n",
              "      <th>75%</th>\n",
              "      <td>430.500000</td>\n",
              "      <td>410.579987</td>\n",
              "      <td>421.390015</td>\n",
              "      <td>421.200012</td>\n",
              "      <td>9.454550e+07</td>\n",
              "      <td>421.200012</td>\n",
              "    </tr>\n",
              "    <tr>\n",
              "      <th>max</th>\n",
              "      <td>718.719971</td>\n",
              "      <td>691.119995</td>\n",
              "      <td>699.989990</td>\n",
              "      <td>705.669983</td>\n",
              "      <td>3.046940e+08</td>\n",
              "      <td>705.669983</td>\n",
              "    </tr>\n",
              "  </tbody>\n",
              "</table>\n",
              "</div>"
            ],
            "text/plain": [
              "             High         Low        Open       Close        Volume   Adj Close\n",
              "count  253.000000  253.000000  253.000000  253.000000  2.530000e+02  253.000000\n",
              "mean   297.288411  280.697937  289.108428  289.997067  7.532903e+07  289.997067\n",
              "std    171.702889  163.350196  167.665389  168.995613  4.015651e+07  168.995613\n",
              "min     80.972000   70.101997   74.940002   72.244003  1.735770e+07   72.244003\n",
              "25%    154.990005  143.222000  148.367996  149.792007  4.713450e+07  149.792007\n",
              "50%    245.600006  237.119995  244.296005  241.731995  7.025550e+07  241.731995\n",
              "75%    430.500000  410.579987  421.390015  421.200012  9.454550e+07  421.200012\n",
              "max    718.719971  691.119995  699.989990  705.669983  3.046940e+08  705.669983"
            ]
          },
          "metadata": {
            "tags": []
          },
          "execution_count": 45
        }
      ]
    },
    {
      "cell_type": "markdown",
      "metadata": {
        "id": "nZqJTJcw6rxZ"
      },
      "source": [
        "## **Cleaning Data**"
      ]
    },
    {
      "cell_type": "code",
      "metadata": {
        "colab": {
          "base_uri": "https://localhost:8080/"
        },
        "id": "GCVXjAWY6ysJ",
        "outputId": "bd39b697-4e4a-46e5-9461-162cc893c1af"
      },
      "source": [
        "dataset.isna().any()"
      ],
      "execution_count": 46,
      "outputs": [
        {
          "output_type": "execute_result",
          "data": {
            "text/plain": [
              "High         False\n",
              "Low          False\n",
              "Open         False\n",
              "Close        False\n",
              "Volume       False\n",
              "Adj Close    False\n",
              "dtype: bool"
            ]
          },
          "metadata": {
            "tags": []
          },
          "execution_count": 46
        }
      ]
    },
    {
      "cell_type": "markdown",
      "metadata": {
        "id": "hbY-_zmk7Csh"
      },
      "source": [
        "## **Creating Histogram for Stock Price**"
      ]
    },
    {
      "cell_type": "code",
      "metadata": {
        "id": "R3rm4Xn97KTI"
      },
      "source": [
        "dataset2 = dataset"
      ],
      "execution_count": 47,
      "outputs": []
    },
    {
      "cell_type": "code",
      "metadata": {
        "colab": {
          "base_uri": "https://localhost:8080/",
          "height": 742
        },
        "id": "R32LtT8w7kqo",
        "outputId": "a5a9c3a5-cbe5-43ee-909b-55d457dec550"
      },
      "source": [
        "fig = plt.figure(figsize=(15, 12))\r\n",
        "plt.suptitle('Histograms of Daily Stock Prices', fontsize=20)\r\n",
        "for i in range (dataset2.shape[1]):\r\n",
        "  plt.subplot(3, 2, i+1)\r\n",
        "  f = plt.gca()\r\n",
        "  f.set_title(dataset2.columns.values[i])\r\n",
        "  vals = np.size(dataset2.iloc[:, i])\r\n",
        "  if vals >= 58:\r\n",
        "    vals = 58\r\n",
        "    plt.hist(dataset2.iloc[:, i], bins=vals, color='#3F5D7D')\r\n",
        "\r\n",
        "plt.tight_layout(rect=[0, 0.03, 1, 0.95])"
      ],
      "execution_count": 48,
      "outputs": [
        {
          "output_type": "display_data",
          "data": {
            "image/png": "[encoded data removed]",
            "text/plain": [
              "<Figure size 1080x864 with 6 Axes>"
            ]
          },
          "metadata": {
            "tags": [],
            "needs_background": "light"
          }
        }
      ]
    },
    {
      "cell_type": "markdown",
      "metadata": {
        "id": "V0_XhSo0FpvZ"
      },
      "source": [
        "## **Bar Plot for the Variables**"
      ]
    },
    {
      "cell_type": "code",
      "metadata": {
        "colab": {
          "base_uri": "https://localhost:8080/",
          "height": 674
        },
        "id": "GgydWCc4F6yf",
        "outputId": "180fa798-ed63-4422-cb00-78a10ca2a899"
      },
      "source": [
        "dataset2.corrwith(dataset.Close).plot.bar(figsize=(10, 10), title = 'Correaltion with Close', fontsize=15, rot=45, grid=True )"
      ],
      "execution_count": 49,
      "outputs": [
        {
          "output_type": "execute_result",
          "data": {
            "text/plain": [
              "<matplotlib.axes._subplots.AxesSubplot at 0x7fa1ce1a7e48>"
            ]
          },
          "metadata": {
            "tags": []
          },
          "execution_count": 49
        },
        {
          "output_type": "display_data",
          "data": {
            "image/png": "[encoded data removed]",
            "text/plain": [
              "<Figure size 720x720 with 1 Axes>"
            ]
          },
          "metadata": {
            "tags": [],
            "needs_background": "light"
          }
        }
      ]
    },
    {
      "cell_type": "markdown",
      "metadata": {
        "id": "SGjY2Aid1aeg"
      },
      "source": [
        "## **Feature Scalling**"
      ]
    },
    {
      "cell_type": "code",
      "metadata": {
        "id": "ip8c-0Xj1k3e"
      },
      "source": [
        "from sklearn.preprocessing import MinMaxScaler\r\n",
        "Scaler = MinMaxScaler(feature_range = (0, 1))\r\n",
        "Scaled_data = Scaler.fit_transform(dataset['Close'].values.reshape(-1, 1))"
      ],
      "execution_count": 50,
      "outputs": []
    },
    {
      "cell_type": "code",
      "metadata": {
        "id": "Kuf8H8Dt45iU"
      },
      "source": [
        "prediction_days = 60"
      ],
      "execution_count": 51,
      "outputs": []
    },
    {
      "cell_type": "code",
      "metadata": {
        "id": "o60qC0IK59K2"
      },
      "source": [
        "X_train = []\r\n",
        "y_train = []"
      ],
      "execution_count": 52,
      "outputs": []
    },
    {
      "cell_type": "code",
      "metadata": {
        "id": "_kAOqc866VHl"
      },
      "source": [
        "for x in range(prediction_days, len(Scaled_data)):\r\n",
        "  X_train.append(Scaled_data[x-prediction_days:x, 0])\r\n",
        "  y_train.append(Scaled_data[x, 0])"
      ],
      "execution_count": 53,
      "outputs": []
    },
    {
      "cell_type": "code",
      "metadata": {
        "id": "eyxqAMxO7YfY"
      },
      "source": [
        "X_train, y_train = np.array(X_train), np.array(y_train)\r\n",
        "X_train = np.reshape(X_train, (X_train.shape[0],X_train.shape[1], 1))"
      ],
      "execution_count": 54,
      "outputs": []
    },
    {
      "cell_type": "markdown",
      "metadata": {
        "id": "a2IVf00_Q2Qd"
      },
      "source": [
        "## **Building the LSTM Model**"
      ]
    },
    {
      "cell_type": "markdown",
      "metadata": {
        "id": "wsOn7GgiQ4vD"
      },
      "source": [
        "## **a) Initializing the Model**"
      ]
    },
    {
      "cell_type": "code",
      "metadata": {
        "id": "ieEL6hi1Q32r"
      },
      "source": [
        "import tensorflow as tf\r\n",
        "from keras.layers import LSTM\r\n",
        "from keras.layers import Dense\r\n",
        "from keras.layers import Dropout\r\n",
        "from keras.preprocessing.image import ImageDataGenerator\r\n",
        "lstm = tf.keras.models.Sequential()"
      ],
      "execution_count": 55,
      "outputs": []
    },
    {
      "cell_type": "markdown",
      "metadata": {
        "id": "_VFKzPfFRBny"
      },
      "source": [
        "##**b) LSTM**"
      ]
    },
    {
      "cell_type": "code",
      "metadata": {
        "id": "aKHi1ZjERENi"
      },
      "source": [
        "lstm.add(LSTM(units=50, return_sequences=True, input_shape=(X_train.shape[1], 1)))\r\n",
        "lstm.add(Dropout(0.2))\r\n",
        "lstm.add(LSTM(units=50, return_sequences=True))\r\n",
        "lstm.add(Dropout(0.2))\r\n",
        "lstm.add(LSTM(units =50))\r\n",
        "lstm.add(Dropout(0.2))"
      ],
      "execution_count": 56,
      "outputs": []
    },
    {
      "cell_type": "markdown",
      "metadata": {
        "id": "lIDbB8DpRes6"
      },
      "source": [
        "## **c) Output Layer**"
      ]
    },
    {
      "cell_type": "code",
      "metadata": {
        "id": "syiJpHXWRgSi"
      },
      "source": [
        "lstm.add(Dense(units=1))"
      ],
      "execution_count": 57,
      "outputs": []
    },
    {
      "cell_type": "markdown",
      "metadata": {
        "id": "xlfa4k39Rj3W"
      },
      "source": [
        "## **d) Training the LSTM**"
      ]
    },
    {
      "cell_type": "code",
      "metadata": {
        "id": "XaaiGJ-TRm9y"
      },
      "source": [
        "lstm.compile(optimizer='adam', loss='mean_squared_error')"
      ],
      "execution_count": 58,
      "outputs": []
    },
    {
      "cell_type": "markdown",
      "metadata": {
        "id": "MYwFD99kR7gj"
      },
      "source": [
        "## **e) Training the LSTM on the Training set**"
      ]
    },
    {
      "cell_type": "code",
      "metadata": {
        "colab": {
          "base_uri": "https://localhost:8080/"
        },
        "id": "RCSSCNzPR-ty",
        "outputId": "e9cac872-fd9d-40df-e45c-42d7c67cc645"
      },
      "source": [
        "lstm.fit(X_train, y_train, epochs = 50, batch_size = 32)"
      ],
      "execution_count": 59,
      "outputs": [
        {
          "output_type": "stream",
          "text": [
            "Epoch 1/50\n",
            "7/7 [==============================] - 5s 91ms/step - loss: 0.1596\n",
            "Epoch 2/50\n",
            "7/7 [==============================] - 1s 117ms/step - loss: 0.0484\n",
            "Epoch 3/50\n",
            "7/7 [==============================] - 1s 88ms/step - loss: 0.0273\n",
            "Epoch 4/50\n",
            "7/7 [==============================] - 1s 89ms/step - loss: 0.0138\n",
            "Epoch 5/50\n",
            "7/7 [==============================] - 1s 88ms/step - loss: 0.0136\n",
            "Epoch 6/50\n",
            "7/7 [==============================] - 1s 89ms/step - loss: 0.0118\n",
            "Epoch 7/50\n",
            "7/7 [==============================] - 1s 89ms/step - loss: 0.0075\n",
            "Epoch 8/50\n",
            "7/7 [==============================] - 1s 92ms/step - loss: 0.0084\n",
            "Epoch 9/50\n",
            "7/7 [==============================] - 1s 88ms/step - loss: 0.0082\n",
            "Epoch 10/50\n",
            "7/7 [==============================] - 1s 94ms/step - loss: 0.0072\n",
            "Epoch 11/50\n",
            "7/7 [==============================] - 1s 92ms/step - loss: 0.0113\n",
            "Epoch 12/50\n",
            "7/7 [==============================] - 1s 88ms/step - loss: 0.0081\n",
            "Epoch 13/50\n",
            "7/7 [==============================] - 1s 88ms/step - loss: 0.0076\n",
            "Epoch 14/50\n",
            "7/7 [==============================] - 1s 92ms/step - loss: 0.0081\n",
            "Epoch 15/50\n",
            "7/7 [==============================] - 1s 91ms/step - loss: 0.0071\n",
            "Epoch 16/50\n",
            "7/7 [==============================] - 1s 87ms/step - loss: 0.0101\n",
            "Epoch 17/50\n",
            "7/7 [==============================] - 1s 90ms/step - loss: 0.0070\n",
            "Epoch 18/50\n",
            "7/7 [==============================] - 1s 88ms/step - loss: 0.0058\n",
            "Epoch 19/50\n",
            "7/7 [==============================] - 1s 89ms/step - loss: 0.0071\n",
            "Epoch 20/50\n",
            "7/7 [==============================] - 1s 88ms/step - loss: 0.0075\n",
            "Epoch 21/50\n",
            "7/7 [==============================] - 1s 92ms/step - loss: 0.0068\n",
            "Epoch 22/50\n",
            "7/7 [==============================] - 1s 88ms/step - loss: 0.0076\n",
            "Epoch 23/50\n",
            "7/7 [==============================] - 1s 87ms/step - loss: 0.0065\n",
            "Epoch 24/50\n",
            "7/7 [==============================] - 1s 88ms/step - loss: 0.0055\n",
            "Epoch 25/50\n",
            "7/7 [==============================] - 1s 90ms/step - loss: 0.0051\n",
            "Epoch 26/50\n",
            "7/7 [==============================] - 1s 89ms/step - loss: 0.0062\n",
            "Epoch 27/50\n",
            "7/7 [==============================] - 1s 89ms/step - loss: 0.0067\n",
            "Epoch 28/50\n",
            "7/7 [==============================] - 1s 90ms/step - loss: 0.0063\n",
            "Epoch 29/50\n",
            "7/7 [==============================] - 1s 97ms/step - loss: 0.0079\n",
            "Epoch 30/50\n",
            "7/7 [==============================] - 1s 98ms/step - loss: 0.0176\n",
            "Epoch 31/50\n",
            "7/7 [==============================] - 1s 89ms/step - loss: 0.0079\n",
            "Epoch 32/50\n",
            "7/7 [==============================] - 1s 88ms/step - loss: 0.0058\n",
            "Epoch 33/50\n",
            "7/7 [==============================] - 1s 90ms/step - loss: 0.0071\n",
            "Epoch 34/50\n",
            "7/7 [==============================] - 1s 90ms/step - loss: 0.0052\n",
            "Epoch 35/50\n",
            "7/7 [==============================] - 1s 90ms/step - loss: 0.0068\n",
            "Epoch 36/50\n",
            "7/7 [==============================] - 1s 93ms/step - loss: 0.0052\n",
            "Epoch 37/50\n",
            "7/7 [==============================] - 1s 90ms/step - loss: 0.0053\n",
            "Epoch 38/50\n",
            "7/7 [==============================] - 1s 91ms/step - loss: 0.0075\n",
            "Epoch 39/50\n",
            "7/7 [==============================] - 1s 91ms/step - loss: 0.0077\n",
            "Epoch 40/50\n",
            "7/7 [==============================] - 1s 93ms/step - loss: 0.0079\n",
            "Epoch 41/50\n",
            "7/7 [==============================] - 1s 97ms/step - loss: 0.0069\n",
            "Epoch 42/50\n",
            "7/7 [==============================] - 1s 94ms/step - loss: 0.0059\n",
            "Epoch 43/50\n",
            "7/7 [==============================] - 1s 101ms/step - loss: 0.0063\n",
            "Epoch 44/50\n",
            "7/7 [==============================] - 1s 108ms/step - loss: 0.0057\n",
            "Epoch 45/50\n",
            "7/7 [==============================] - 1s 104ms/step - loss: 0.0063\n",
            "Epoch 46/50\n",
            "7/7 [==============================] - 1s 93ms/step - loss: 0.0057\n",
            "Epoch 47/50\n",
            "7/7 [==============================] - 1s 92ms/step - loss: 0.0076\n",
            "Epoch 48/50\n",
            "7/7 [==============================] - 1s 89ms/step - loss: 0.0097\n",
            "Epoch 49/50\n",
            "7/7 [==============================] - 1s 90ms/step - loss: 0.0079\n",
            "Epoch 50/50\n",
            "7/7 [==============================] - 1s 90ms/step - loss: 0.0057\n"
          ],
          "name": "stdout"
        },
        {
          "output_type": "execute_result",
          "data": {
            "text/plain": [
              "<tensorflow.python.keras.callbacks.History at 0x7fa1d0da2ba8>"
            ]
          },
          "metadata": {
            "tags": []
          },
          "execution_count": 59
        }
      ]
    },
    {
      "cell_type": "markdown",
      "metadata": {
        "id": "YHPcEZhGT2Vk"
      },
      "source": [
        "## **Loading the Test Data**"
      ]
    },
    {
      "cell_type": "code",
      "metadata": {
        "id": "FyfqGPjoT_Vz"
      },
      "source": [
        "test_start = dt.datetime(2020,11,30)\r\n",
        "test_end = dt.datetime.now()"
      ],
      "execution_count": 60,
      "outputs": []
    },
    {
      "cell_type": "code",
      "metadata": {
        "id": "rbieEQj3UDLy"
      },
      "source": [
        "test_dataset = web.DataReader(company, 'yahoo', test_start, test_end )\r\n",
        "actual_prices = test_dataset['Close'].values\r\n",
        "total_dataset = pd.concat((dataset['Close'], test_dataset['Close']), axis=0)\r\n",
        "model_input = total_dataset[len(total_dataset) - len(test_dataset) - prediction_days:].values"
      ],
      "execution_count": 61,
      "outputs": []
    },
    {
      "cell_type": "code",
      "metadata": {
        "id": "IeDobkAKUUZi"
      },
      "source": [
        "model_input = model_input.reshape(-1, 1)\r\n",
        "model_input = Scaler.transform(model_input) "
      ],
      "execution_count": 62,
      "outputs": []
    },
    {
      "cell_type": "markdown",
      "metadata": {
        "id": "nKa7xocVUYOV"
      },
      "source": [
        "## **Predicitng the Test Set**"
      ]
    },
    {
      "cell_type": "code",
      "metadata": {
        "id": "veGh9sEsUeU7"
      },
      "source": [
        "X_test = []\r\n",
        "for x in range(prediction_days, len(model_input)):\r\n",
        "  X_test.append(model_input[x-prediction_days:x, 0])"
      ],
      "execution_count": 63,
      "outputs": []
    },
    {
      "cell_type": "code",
      "metadata": {
        "id": "97ZprlTGUjIt"
      },
      "source": [
        "X_test = np.array(X_test)\r\n",
        "X_test = np.reshape(X_test, (X_test.shape[0], X_test.shape[1], 1))"
      ],
      "execution_count": 64,
      "outputs": []
    },
    {
      "cell_type": "code",
      "metadata": {
        "id": "8gUAn_fNUmf5"
      },
      "source": [
        "predicted_prices = lstm.predict(X_test)\r\n",
        "predicted_prices = Scaler.inverse_transform(predicted_prices)"
      ],
      "execution_count": 65,
      "outputs": []
    },
    {
      "cell_type": "markdown",
      "metadata": {
        "id": "-IBpTzKFU04q"
      },
      "source": [
        "## **Plotting the Test Prediction**"
      ]
    },
    {
      "cell_type": "code",
      "metadata": {
        "colab": {
          "base_uri": "https://localhost:8080/",
          "height": 295
        },
        "id": "apRgmLdWU2qT",
        "outputId": "91a4a647-04e5-4e31-e9bd-9b17fdbb3f22"
      },
      "source": [
        "plt.plot(actual_prices, color='orange', label = f\"Actual {company} Price\")\r\n",
        "plt.plot(predicted_prices, color='blue', label = f\"Predicted {company} Price\")\r\n",
        "plt.title(f\"{company} Share Price\")\r\n",
        "plt.xlabel('Time')\r\n",
        "plt.ylabel(f'{company} Share Price')\r\n",
        "plt.legend()\r\n",
        "plt.show()"
      ],
      "execution_count": 66,
      "outputs": [
        {
          "output_type": "display_data",
          "data": {
            "image/png": "[encoded data removed]",
            "text/plain": [
              "<Figure size 432x288 with 1 Axes>"
            ]
          },
          "metadata": {
            "tags": [],
            "needs_background": "light"
          }
        }
      ]
    },
    {
      "cell_type": "markdown",
      "metadata": {
        "id": "bYi72RRBVV2L"
      },
      "source": [
        "## **Predict the Next Day**"
      ]
    },
    {
      "cell_type": "code",
      "metadata": {
        "colab": {
          "base_uri": "https://localhost:8080/"
        },
        "id": "8VgzhjQKVb3D",
        "outputId": "e79d2f69-430e-4858-8b1d-3f879b5c7696"
      },
      "source": [
        "real_data = [model_input[len(model_input) + 1 - prediction_days:len(model_input+1), 0]]\r\n",
        "real_data = np.array(real_data)\r\n",
        "real_data = np.reshape(real_data, (real_data.shape[0], real_data.shape[1], 1))\r\n",
        "prediction = lstm.predict(real_data)\r\n",
        "prediction = Scaler.inverse_transform(prediction)\r\n",
        "print(f\"prediction: {prediction}\")"
      ],
      "execution_count": 67,
      "outputs": [
        {
          "output_type": "stream",
          "text": [
            "WARNING:tensorflow:Model was constructed with shape (None, 60, 1) for input KerasTensor(type_spec=TensorSpec(shape=(None, 60, 1), dtype=tf.float32, name='lstm_3_input'), name='lstm_3_input', description=\"created by layer 'lstm_3_input'\"), but it was called on an input with incompatible shape (None, 59, 1).\n",
            "prediction: [[857.85175]]\n"
          ],
          "name": "stdout"
        }
      ]
    }
  ]
}